{
 "cells": [
  {
   "cell_type": "markdown",
   "metadata": {},
   "source": [
    "## Testiranje ultimate simulacij"
   ]
  },
  {
   "cell_type": "code",
   "execution_count": 8,
   "metadata": {},
   "outputs": [
    {
     "name": "stdout",
     "output_type": "stream",
     "text": [
      "\n",
      "--- REZULTATI IGRE ---\n",
      "Vaša roka: [{'rank': 'A', 'suit': 'Hearts'}, {'rank': '4', 'suit': 'Clubs'}], Kombinacija: Four of a Kind\n",
      "Delivčeva roka: [{'rank': 'J', 'suit': 'Spades'}, {'rank': '10', 'suit': 'Clubs'}], Kombinacija: Three of a Kind\n",
      "River (5 skupnih kart): [{'rank': '4', 'suit': 'Hearts'}, {'rank': '8', 'suit': 'Hearts'}, {'rank': 'Q', 'suit': 'Clubs'}, {'rank': '4', 'suit': 'Diamonds'}, {'rank': '4', 'suit': 'Spades'}]\n",
      "\n",
      "Zgodovina stav:\n",
      "Flop: Stavil(a) ste 20.\n",
      "Čestitke, zmagali ste!\n",
      "Vaš dobitek: 60\n",
      "\n",
      "Preostali proračun: 1190\n"
     ]
    }
   ],
   "source": [
    "import ultimate\n",
    "\n",
    "ultimate.play_game()"
   ]
  }
 ],
 "metadata": {
  "kernelspec": {
   "display_name": "base",
   "language": "python",
   "name": "python3"
  },
  "language_info": {
   "codemirror_mode": {
    "name": "ipython",
    "version": 3
   },
   "file_extension": ".py",
   "mimetype": "text/x-python",
   "name": "python",
   "nbconvert_exporter": "python",
   "pygments_lexer": "ipython3",
   "version": "3.11.5"
  }
 },
 "nbformat": 4,
 "nbformat_minor": 2
}
