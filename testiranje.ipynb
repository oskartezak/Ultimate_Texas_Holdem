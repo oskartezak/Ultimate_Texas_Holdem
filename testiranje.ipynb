{
 "cells": [
  {
   "cell_type": "markdown",
   "metadata": {},
   "source": [
    "## Testiranje ultimate simulacij"
   ]
  },
  {
   "cell_type": "code",
   "execution_count": 3,
   "metadata": {},
   "outputs": [
    {
     "name": "stdout",
     "output_type": "stream",
     "text": [
      "\n",
      "--- REZULTATI IGRE ---\n",
      "Vaša roka: [{'rank': '6', 'suit': 'Hearts'}, {'rank': 'J', 'suit': 'Diamonds'}], Kombinacija: High Card\n",
      "Delivčeva roka: [{'rank': '10', 'suit': 'Diamonds'}, {'rank': '2', 'suit': 'Clubs'}], Kombinacija: Two Pair\n",
      "River (5 skupnih kart): [{'rank': '2', 'suit': 'Diamonds'}, {'rank': '3', 'suit': 'Clubs'}, {'rank': '10', 'suit': 'Clubs'}, {'rank': 'A', 'suit': 'Hearts'}, {'rank': '8', 'suit': 'Spades'}]\n",
      "\n",
      "Zgodovina stav:\n",
      "Turn & River: Stavil(a) ste 10.\n",
      "Žal ste izgubili. Poskusite znova!\n",
      "\n",
      "Preostali proračun: 970\n"
     ]
    }
   ],
   "source": [
    "import ultimate\n",
    "from importlib import reload\n",
    "reload(ultimate)\n",
    "\n",
    "ultimate.play_game()"
   ]
  },
  {
   "cell_type": "code",
   "execution_count": 10,
   "metadata": {},
   "outputs": [
    {
     "name": "stdout",
     "output_type": "stream",
     "text": [
      "\n",
      "--- REZULTATI IGRE ---\n",
      "Vaša roka: [{'rank': '2', 'suit': 'Clubs'}, {'rank': '3', 'suit': 'Diamonds'}], Kombinacija: Three of a Kind\n",
      "Delivčeva roka: [{'rank': '4', 'suit': 'Hearts'}, {'rank': '8', 'suit': 'Diamonds'}], Kombinacija: Three of a Kind\n",
      "River (5 skupnih kart): [{'rank': '10', 'suit': 'Spades'}, {'rank': '7', 'suit': 'Diamonds'}, {'rank': '10', 'suit': 'Hearts'}, {'rank': 'A', 'suit': 'Diamonds'}, {'rank': '10', 'suit': 'Diamonds'}]\n",
      "Žal ste izgubili. Poskusite znova!\n"
     ]
    }
   ],
   "source": [
    "player_hand = [{'rank': '2', 'suit': 'Clubs'}, {'rank': '3', 'suit': 'Diamonds'}]\n",
    "dealer_hand = [{'rank': '4', 'suit': 'Hearts'}, {'rank': '8', 'suit': 'Diamonds'}]\n",
    "community_cards = [{'rank': '10', 'suit': 'Spades'}, {'rank': '7', 'suit': 'Diamonds'}, \n",
    "                   {'rank': '10', 'suit': 'Hearts'}, {'rank': 'A', 'suit': 'Diamonds'}, \n",
    "                   {'rank': '10', 'suit': 'Diamonds'}]\n",
    "\n",
    "ultimate.test(player_hand, dealer_hand, community_cards)"
   ]
  }
 ],
 "metadata": {
  "kernelspec": {
   "display_name": "base",
   "language": "python",
   "name": "python3"
  },
  "language_info": {
   "codemirror_mode": {
    "name": "ipython",
    "version": 3
   },
   "file_extension": ".py",
   "mimetype": "text/x-python",
   "name": "python",
   "nbconvert_exporter": "python",
   "pygments_lexer": "ipython3",
   "version": "3.11.5"
  }
 },
 "nbformat": 4,
 "nbformat_minor": 2
}
