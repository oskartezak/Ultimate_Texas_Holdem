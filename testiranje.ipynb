{
 "cells": [
  {
   "cell_type": "markdown",
   "metadata": {},
   "source": [
    "## Testiranje ultimate simulacij"
   ]
  },
  {
   "cell_type": "code",
   "execution_count": 1,
   "metadata": {},
   "outputs": [
    {
     "name": "stdout",
     "output_type": "stream",
     "text": [
      "\n",
      "--- REZULTATI IGRE ---\n",
      "Vaša roka: [{'rank': '9', 'suit': 'Clubs'}, {'rank': '2', 'suit': 'Hearts'}], Kombinacija: One Pair\n",
      "Delivčeva roka: [{'rank': '5', 'suit': 'Clubs'}, {'rank': '10', 'suit': 'Diamonds'}], Kombinacija: One Pair\n",
      "River (5 skupnih kart): [{'rank': 'J', 'suit': 'Spades'}, {'rank': 'Q', 'suit': 'Diamonds'}, {'rank': '2', 'suit': 'Spades'}, {'rank': '5', 'suit': 'Spades'}, {'rank': '8', 'suit': 'Hearts'}]\n",
      "\n",
      "Zgodovina stav:\n",
      "Flop: Stavil(a) ste 20.\n",
      "Žal ste izgubili. Poskusite znova!\n",
      "\n",
      "Preostali proračun: 960\n"
     ]
    }
   ],
   "source": [
    "import ultimate\n",
    "from importlib import reload\n",
    "reload(ultimate)\n",
    "\n",
    "ultimate.play_game()"
   ]
  },
  {
   "cell_type": "code",
   "execution_count": null,
   "metadata": {},
   "outputs": [
    {
     "name": "stdout",
     "output_type": "stream",
     "text": [
      "\n",
      "--- REZULTATI IGRE ---\n",
      "Vaša roka: [{'rank': '9', 'suit': 'Diamonds'}, {'rank': 'K', 'suit': 'Hearts'}], Kombinacija: Flush\n",
      "Delivčeva roka: [{'rank': '9', 'suit': 'Spades'}, {'rank': 'J', 'suit': 'Hearts'}], Kombinacija: Flush\n",
      "River (5 skupnih kart): [{'rank': '10', 'suit': 'Spades'}, {'rank': 'A', 'suit': 'Spades'}, {'rank': 'J', 'suit': 'Spades'}, {'rank': '8', 'suit': 'Spades'}, {'rank': '5', 'suit': 'Spades'}]\n",
      "Žal ste izgubili. Poskusite znova!\n"
     ]
    }
   ],
   "source": [
    "player_hand = [{'rank': '9', 'suit': 'Diamonds'}, {'rank': 'K', 'suit': 'Hearts'}]\n",
    "dealer_hand = [{'rank': '9', 'suit': 'Spades'}, {'rank': 'J', 'suit': 'Hearts'}]\n",
    "community_cards = [{'rank': '10', 'suit': 'Spades'}, {'rank': 'A', 'suit': 'Spades'}, \n",
    "                   {'rank': 'J', 'suit': 'Spades'}, {'rank': '8', 'suit': 'Spades'}, \n",
    "                   {'rank': '5', 'suit': 'Spades'}]\n",
    "\n",
    "ultimate.test(player_hand, dealer_hand, community_cards)"
   ]
  }
 ],
 "metadata": {
  "kernelspec": {
   "display_name": "base",
   "language": "python",
   "name": "python3"
  },
  "language_info": {
   "codemirror_mode": {
    "name": "ipython",
    "version": 3
   },
   "file_extension": ".py",
   "mimetype": "text/x-python",
   "name": "python",
   "nbconvert_exporter": "python",
   "pygments_lexer": "ipython3",
   "version": "3.11.5"
  }
 },
 "nbformat": 4,
 "nbformat_minor": 2
}
