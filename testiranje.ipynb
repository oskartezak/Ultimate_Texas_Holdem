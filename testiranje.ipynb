{
 "cells": [
  {
   "cell_type": "markdown",
   "metadata": {},
   "source": [
    "## Testiranje ultimate simulacij"
   ]
  },
  {
   "cell_type": "code",
   "execution_count": 6,
   "metadata": {},
   "outputs": [
    {
     "name": "stdout",
     "output_type": "stream",
     "text": [
      "\n",
      "--- REZULTATI IGRE ---\n",
      "Vaša roka: [{'rank': 'J', 'suit': 'Hearts'}, {'rank': 'K', 'suit': 'Clubs'}], Kombinacija: Straight\n",
      "Delivčeva roka: [{'rank': '4', 'suit': 'Clubs'}, {'rank': '7', 'suit': 'Diamonds'}], Kombinacija: One Pair\n",
      "River (5 skupnih kart): [{'rank': 'A', 'suit': 'Hearts'}, {'rank': 'Q', 'suit': 'Clubs'}, {'rank': '10', 'suit': 'Diamonds'}, {'rank': '3', 'suit': 'Spades'}, {'rank': '3', 'suit': 'Hearts'}]\n",
      "\n",
      "Zgodovina stav:\n",
      "Flop: Stavil(a) ste 20.\n",
      "Čestitke, zmagali ste!\n",
      "Vaš dobitek: 40\n",
      "\n",
      "Preostali proračun: 1040\n"
     ]
    }
   ],
   "source": [
    "import ultimate\n",
    "from importlib import reload\n",
    "reload(ultimate)\n",
    "\n",
    "ultimate.play_game()"
   ]
  },
  {
   "cell_type": "code",
   "execution_count": 7,
   "metadata": {},
   "outputs": [
    {
     "name": "stdout",
     "output_type": "stream",
     "text": [
      "\n",
      "--- REZULTATI IGRE ---\n",
      "Vaša roka: [{'rank': '2', 'suit': 'Clubs'}, {'rank': 'A', 'suit': 'Diamonds'}], Kombinacija: Two Pair\n",
      "Delivčeva roka: [{'rank': '9', 'suit': 'Clubs'}, {'rank': 'Q', 'suit': 'Diamonds'}], Kombinacija: Two Pair\n",
      "River (5 skupnih kart): [{'rank': '7', 'suit': 'Diamonds'}, {'rank': '8', 'suit': 'Spades'}, {'rank': '10', 'suit': 'Spades'}, {'rank': '7', 'suit': 'Clubs'}, {'rank': '10', 'suit': 'Diamonds'}]\n"
     ]
    },
    {
     "ename": "TypeError",
     "evalue": "'int' object is not iterable",
     "output_type": "error",
     "traceback": [
      "\u001b[1;31m---------------------------------------------------------------------------\u001b[0m",
      "\u001b[1;31mTypeError\u001b[0m                                 Traceback (most recent call last)",
      "Cell \u001b[1;32mIn[7], line 6\u001b[0m\n\u001b[0;32m      2\u001b[0m dealer_hand \u001b[38;5;241m=\u001b[39m [{\u001b[38;5;124m'\u001b[39m\u001b[38;5;124mrank\u001b[39m\u001b[38;5;124m'\u001b[39m: \u001b[38;5;124m'\u001b[39m\u001b[38;5;124m9\u001b[39m\u001b[38;5;124m'\u001b[39m, \u001b[38;5;124m'\u001b[39m\u001b[38;5;124msuit\u001b[39m\u001b[38;5;124m'\u001b[39m: \u001b[38;5;124m'\u001b[39m\u001b[38;5;124mClubs\u001b[39m\u001b[38;5;124m'\u001b[39m}, {\u001b[38;5;124m'\u001b[39m\u001b[38;5;124mrank\u001b[39m\u001b[38;5;124m'\u001b[39m: \u001b[38;5;124m'\u001b[39m\u001b[38;5;124mQ\u001b[39m\u001b[38;5;124m'\u001b[39m, \u001b[38;5;124m'\u001b[39m\u001b[38;5;124msuit\u001b[39m\u001b[38;5;124m'\u001b[39m: \u001b[38;5;124m'\u001b[39m\u001b[38;5;124mDiamonds\u001b[39m\u001b[38;5;124m'\u001b[39m}]\n\u001b[0;32m      3\u001b[0m community_cards \u001b[38;5;241m=\u001b[39m [{\u001b[38;5;124m'\u001b[39m\u001b[38;5;124mrank\u001b[39m\u001b[38;5;124m'\u001b[39m: \u001b[38;5;124m'\u001b[39m\u001b[38;5;124m7\u001b[39m\u001b[38;5;124m'\u001b[39m, \u001b[38;5;124m'\u001b[39m\u001b[38;5;124msuit\u001b[39m\u001b[38;5;124m'\u001b[39m: \u001b[38;5;124m'\u001b[39m\u001b[38;5;124mDiamonds\u001b[39m\u001b[38;5;124m'\u001b[39m}, {\u001b[38;5;124m'\u001b[39m\u001b[38;5;124mrank\u001b[39m\u001b[38;5;124m'\u001b[39m: \u001b[38;5;124m'\u001b[39m\u001b[38;5;124m8\u001b[39m\u001b[38;5;124m'\u001b[39m, \u001b[38;5;124m'\u001b[39m\u001b[38;5;124msuit\u001b[39m\u001b[38;5;124m'\u001b[39m: \u001b[38;5;124m'\u001b[39m\u001b[38;5;124mSpades\u001b[39m\u001b[38;5;124m'\u001b[39m}, {\u001b[38;5;124m'\u001b[39m\u001b[38;5;124mrank\u001b[39m\u001b[38;5;124m'\u001b[39m: \u001b[38;5;124m'\u001b[39m\u001b[38;5;124m10\u001b[39m\u001b[38;5;124m'\u001b[39m, \u001b[38;5;124m'\u001b[39m\u001b[38;5;124msuit\u001b[39m\u001b[38;5;124m'\u001b[39m: \u001b[38;5;124m'\u001b[39m\u001b[38;5;124mSpades\u001b[39m\u001b[38;5;124m'\u001b[39m},\n\u001b[0;32m      4\u001b[0m                        {\u001b[38;5;124m'\u001b[39m\u001b[38;5;124mrank\u001b[39m\u001b[38;5;124m'\u001b[39m: \u001b[38;5;124m'\u001b[39m\u001b[38;5;124m7\u001b[39m\u001b[38;5;124m'\u001b[39m, \u001b[38;5;124m'\u001b[39m\u001b[38;5;124msuit\u001b[39m\u001b[38;5;124m'\u001b[39m: \u001b[38;5;124m'\u001b[39m\u001b[38;5;124mClubs\u001b[39m\u001b[38;5;124m'\u001b[39m}, {\u001b[38;5;124m'\u001b[39m\u001b[38;5;124mrank\u001b[39m\u001b[38;5;124m'\u001b[39m: \u001b[38;5;124m'\u001b[39m\u001b[38;5;124m10\u001b[39m\u001b[38;5;124m'\u001b[39m, \u001b[38;5;124m'\u001b[39m\u001b[38;5;124msuit\u001b[39m\u001b[38;5;124m'\u001b[39m: \u001b[38;5;124m'\u001b[39m\u001b[38;5;124mDiamonds\u001b[39m\u001b[38;5;124m'\u001b[39m}]\n\u001b[1;32m----> 6\u001b[0m ultimate\u001b[38;5;241m.\u001b[39mtest(player_hand, dealer_hand, community_cards)\n",
      "File \u001b[1;32mc:\\Users\\neomi\\OneDrive\\Desktop\\PDF\\Poker Ultimate\\Ultimate_Texas_Holdem\\ultimate.py:407\u001b[0m, in \u001b[0;36mtest\u001b[1;34m(player_hand, dealer_hand, community_cards)\u001b[0m\n\u001b[0;32m      0\u001b[0m <Error retrieving source code with stack_data see ipython/ipython#13598>\n",
      "File \u001b[1;32mc:\\Users\\neomi\\OneDrive\\Desktop\\PDF\\Poker Ultimate\\Ultimate_Texas_Holdem\\ultimate.py:237\u001b[0m, in \u001b[0;36mdecider\u001b[1;34m(player_combination, player_final_hand, dealer_combination, dealer_final_hand)\u001b[0m\n\u001b[0;32m    235\u001b[0m         \u001b[38;5;28;01mreturn\u001b[39;00m \u001b[38;5;124m\"\u001b[39m\u001b[38;5;124mplayer\u001b[39m\u001b[38;5;124m\"\u001b[39m\n\u001b[0;32m    236\u001b[0m     \u001b[38;5;28;01melif\u001b[39;00m p_kicker \u001b[38;5;241m<\u001b[39m d_kicker:\n\u001b[1;32m--> 237\u001b[0m         \u001b[38;5;28;01mreturn\u001b[39;00m \u001b[38;5;124m\"\u001b[39m\u001b[38;5;124mdealer\u001b[39m\u001b[38;5;124m\"\u001b[39m\n\u001b[0;32m    239\u001b[0m \u001b[38;5;28;01mreturn\u001b[39;00m \u001b[38;5;124m\"\u001b[39m\u001b[38;5;124mtie\u001b[39m\u001b[38;5;124m\"\u001b[39m\n",
      "\u001b[1;31mTypeError\u001b[0m: 'int' object is not iterable"
     ]
    }
   ],
   "source": [
    "player_hand = [{'rank': '2', 'suit': 'Clubs'}, {'rank': 'A', 'suit': 'Diamonds'}]\n",
    "dealer_hand = [{'rank': '9', 'suit': 'Clubs'}, {'rank': 'Q', 'suit': 'Diamonds'}]\n",
    "community_cards = [{'rank': '7', 'suit': 'Diamonds'}, {'rank': '8', 'suit': 'Spades'}, {'rank': '10', 'suit': 'Spades'},\n",
    "                       {'rank': '7', 'suit': 'Clubs'}, {'rank': '10', 'suit': 'Diamonds'}]\n",
    "\n",
    "ultimate.test(player_hand, dealer_hand, community_cards)"
   ]
  }
 ],
 "metadata": {
  "kernelspec": {
   "display_name": "base",
   "language": "python",
   "name": "python3"
  },
  "language_info": {
   "codemirror_mode": {
    "name": "ipython",
    "version": 3
   },
   "file_extension": ".py",
   "mimetype": "text/x-python",
   "name": "python",
   "nbconvert_exporter": "python",
   "pygments_lexer": "ipython3",
   "version": "3.11.5"
  }
 },
 "nbformat": 4,
 "nbformat_minor": 2
}
