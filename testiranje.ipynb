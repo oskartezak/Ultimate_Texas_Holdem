{
 "cells": [
  {
   "cell_type": "markdown",
   "metadata": {},
   "source": [
    "## Testiranje ultimate simulacij"
   ]
  },
  {
   "cell_type": "code",
   "execution_count": 30,
   "metadata": {},
   "outputs": [
    {
     "name": "stdout",
     "output_type": "stream",
     "text": [
      "\n",
      "--- REZULTATI IGRE ---\n",
      "Vaša roka: [{'rank': '10', 'suit': 'Diamonds'}, {'rank': 'A', 'suit': 'Spades'}], Kombinacija: One Pair\n",
      "Delivčeva roka: [{'rank': '2', 'suit': 'Hearts'}, {'rank': 'K', 'suit': 'Clubs'}], Kombinacija: One Pair\n",
      "River (5 skupnih kart): [{'rank': '6', 'suit': 'Spades'}, {'rank': '4', 'suit': 'Clubs'}, {'rank': '7', 'suit': 'Spades'}] \n",
      "                        [{'rank': '5', 'suit': 'Hearts'}, {'rank': '6', 'suit': 'Hearts'}]\n",
      "\n",
      "Zgodovina stav:\n",
      "Preflop: Stavil(a) ste 40.\n",
      "Čestitke, zmagali ste!\n",
      "Vaš dobitek: 50\n",
      "\n",
      "Preostali proračun: 1050\n"
     ]
    }
   ],
   "source": [
    "import ultimate\n",
    "from importlib import reload\n",
    "reload(ultimate)\n",
    "\n",
    "ultimate.play_game()"
   ]
  },
  {
   "cell_type": "code",
   "execution_count": null,
   "metadata": {},
   "outputs": [
    {
     "name": "stdout",
     "output_type": "stream",
     "text": [
      "\n",
      "--- REZULTATI IGRE ---\n",
      "Vaša roka: [{'rank': '9', 'suit': 'Diamonds'}, {'rank': 'K', 'suit': 'Hearts'}], Kombinacija: Flush\n",
      "Delivčeva roka: [{'rank': '9', 'suit': 'Spades'}, {'rank': 'J', 'suit': 'Hearts'}], Kombinacija: Flush\n",
      "River (5 skupnih kart): [{'rank': '10', 'suit': 'Spades'}, {'rank': 'A', 'suit': 'Spades'}, {'rank': 'J', 'suit': 'Spades'}, {'rank': '8', 'suit': 'Spades'}, {'rank': '5', 'suit': 'Spades'}]\n",
      "Žal ste izgubili. Poskusite znova!\n"
     ]
    }
   ],
   "source": [
    "player_hand = [{'rank': '9', 'suit': 'Diamonds'}, {'rank': 'K', 'suit': 'Hearts'}]\n",
    "dealer_hand = [{'rank': '9', 'suit': 'Spades'}, {'rank': 'J', 'suit': 'Hearts'}]\n",
    "community_cards = [{'rank': '10', 'suit': 'Spades'}, {'rank': 'A', 'suit': 'Spades'}, \n",
    "                   {'rank': 'J', 'suit': 'Spades'}, {'rank': '8', 'suit': 'Spades'}, \n",
    "                   {'rank': '5', 'suit': 'Spades'}]\n",
    "\n",
    "ultimate.test(player_hand, dealer_hand, community_cards)"
   ]
  },
  {
   "cell_type": "code",
   "execution_count": 14,
   "metadata": {},
   "outputs": [
    {
     "name": "stdout",
     "output_type": "stream",
     "text": [
      "{'One Pair': 0.440226, 'Two Pair': 0.235111, 'Three of a Kind': 0.048139, 'High Card': 0.176675, 'Flush': 0.030339, 'Full House': 0.025811, 'Straight Flush': 0.000258, 'Straight': 0.04171, 'Four of a Kind': 0.001702, 'Royal Flush': 2.9e-05}\n",
      "{'One Pair': 0.440603, 'Two Pair': 0.234831, 'Three of a Kind': 0.048447, 'Full House': 0.025775, 'High Card': 0.176425, 'Flush': 0.030438, 'Straight': 0.041546, 'Four of a Kind': 0.001661, 'Straight Flush': 0.000247, 'Royal Flush': 2.7e-05}\n"
     ]
    }
   ],
   "source": [
    "ultimate.combination_counter(1000000)"
   ]
  },
  {
   "cell_type": "code",
   "execution_count": null,
   "metadata": {},
   "outputs": [
    {
     "name": "stdout",
     "output_type": "stream",
     "text": [
      "preflop 3591832\n",
      "flop 2146729\n",
      "river 2713451\n",
      "fold 1547988\n",
      "Betted: 401112382\n",
      "Preostali proračun: -4407790.0\n",
      "Edge -1.0988915320993506\n"
     ]
    }
   ],
   "source": [
    "ultimate.simulation_payout(10000000)"
   ]
  }
 ],
 "metadata": {
  "kernelspec": {
   "display_name": "base",
   "language": "python",
   "name": "python3"
  },
  "language_info": {
   "codemirror_mode": {
    "name": "ipython",
    "version": 3
   },
   "file_extension": ".py",
   "mimetype": "text/x-python",
   "name": "python",
   "nbconvert_exporter": "python",
   "pygments_lexer": "ipython3",
   "version": "3.11.5"
  }
 },
 "nbformat": 4,
 "nbformat_minor": 2
}
