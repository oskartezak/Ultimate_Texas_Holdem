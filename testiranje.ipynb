{
 "cells": [
  {
   "cell_type": "markdown",
   "metadata": {},
   "source": [
    "## Testiranje ultimate simulacij"
   ]
  },
  {
   "cell_type": "code",
   "execution_count": 50,
   "metadata": {},
   "outputs": [
    {
     "name": "stdout",
     "output_type": "stream",
     "text": [
      "\n",
      "--- REZULTATI IGRE ---\n",
      "Vaša roka: [{'rank': '6', 'suit': 'Clubs'}, {'rank': '9', 'suit': 'Spades'}], Kombinacija: High Card\n",
      "Delivčeva roka: [{'rank': '4', 'suit': 'Hearts'}, {'rank': 'Q', 'suit': 'Spades'}], Kombinacija: High Card\n",
      "River (5 skupnih kart): [{'rank': 'K', 'suit': 'Clubs'}, {'rank': 'J', 'suit': 'Hearts'}, {'rank': '5', 'suit': 'Hearts'}, {'rank': '8', 'suit': 'Clubs'}, {'rank': '3', 'suit': 'Hearts'}]\n",
      "\n",
      "Zgodovina stav:\n",
      "Fold\n",
      "Žal ste izgubili. Poskusite znova!\n",
      "\n",
      "Preostali proračun: 980\n"
     ]
    }
   ],
   "source": [
    "import ultimate\n",
    "from importlib import reload\n",
    "reload(ultimate)\n",
    "\n",
    "ultimate.play_game()"
   ]
  },
  {
   "cell_type": "code",
   "execution_count": 54,
   "metadata": {},
   "outputs": [
    {
     "name": "stdout",
     "output_type": "stream",
     "text": [
      "\n",
      "--- REZULTATI IGRE ---\n",
      "Vaša roka: [{'rank': 'A', 'suit': 'Clubs'}, {'rank': 'A', 'suit': 'Diamonds'}], Kombinacija: Royal Flush\n",
      "Delivčeva roka: [{'rank': 'A', 'suit': 'Clubs'}, {'rank': '9', 'suit': 'Diamonds'}], Kombinacija: Straight Flush\n",
      "River (5 skupnih kart): [{'rank': 'J', 'suit': 'Diamonds'}, {'rank': '10', 'suit': 'Diamonds'}, {'rank': 'Q', 'suit': 'Diamonds'}, {'rank': 'K', 'suit': 'Diamonds'}, {'rank': '7', 'suit': 'Diamonds'}]\n",
      "Čestitke, zmagali ste!\n"
     ]
    }
   ],
   "source": [
    "player_hand = [{'rank': 'A', 'suit': 'Clubs'}, {'rank': 'A', 'suit': 'Diamonds'}]\n",
    "dealer_hand = [{'rank': 'A', 'suit': 'Clubs'}, {'rank': '9', 'suit': 'Diamonds'}]\n",
    "community_cards = [{'rank': 'J', 'suit': 'Diamonds'}, {'rank': '10', 'suit': 'Diamonds'}, {'rank': 'Q', 'suit': 'Diamonds'},\n",
    "                       {'rank': 'K', 'suit': 'Diamonds'}, {'rank': '7', 'suit': 'Diamonds'}]\n",
    "\n",
    "ultimate.test(player_hand, dealer_hand, community_cards)"
   ]
  }
 ],
 "metadata": {
  "kernelspec": {
   "display_name": "base",
   "language": "python",
   "name": "python3"
  },
  "language_info": {
   "codemirror_mode": {
    "name": "ipython",
    "version": 3
   },
   "file_extension": ".py",
   "mimetype": "text/x-python",
   "name": "python",
   "nbconvert_exporter": "python",
   "pygments_lexer": "ipython3",
   "version": "3.11.5"
  }
 },
 "nbformat": 4,
 "nbformat_minor": 2
}
