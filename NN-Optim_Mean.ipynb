{
 "cells": [
  {
   "cell_type": "code",
   "execution_count": 2,
   "id": "e9f72a20",
   "metadata": {},
   "outputs": [],
   "source": [
    "import torch\n",
    "import numpy as np\n",
    "from torch.utils.data import TensorDataset, DataLoader\n",
    "import torch.nn as nn\n",
    "import torch.nn.functional as F\n",
    "from torch.nn.utils.rnn import pad_sequence"
   ]
  },
  {
   "cell_type": "code",
   "execution_count": null,
   "id": "11a7f960",
   "metadata": {},
   "outputs": [
    {
     "name": "stdout",
     "output_type": "stream",
     "text": [
      "First round input shape: torch.Size([1326, 7])\n",
      "First round label shape: torch.Size([1326])\n",
      "First round repeated input shape: torch.Size([26520, 7])\n",
      "First round repeated label shape: torch.Size([26520])\n",
      "Second round input shape: torch.Size([19890, 7])\n",
      "Second round label shape: torch.Size([19890])\n",
      "Second round repeated input shape: torch.Size([99450, 7])\n",
      "Second round repeated label shape: torch.Size([99450])\n",
      "Third round input shape: torch.Size([298350, 7])\n",
      "Third round label shape: torch.Size([298350])\n",
      "Combined input shape: torch.Size([424320, 7])\n",
      "Combined label shape: torch.Size([424320])\n"
     ]
    },
    {
     "ename": "",
     "evalue": "",
     "output_type": "error",
     "traceback": [
      "\u001b[1;31mnotebook controller is DISPOSED. \n",
      "\u001b[1;31mView Jupyter <a href='command:jupyter.viewOutput'>log</a> for further details."
     ]
    },
    {
     "ename": "",
     "evalue": "",
     "output_type": "error",
     "traceback": [
      "\u001b[1;31mnotebook controller is DISPOSED. \n",
      "\u001b[1;31mView Jupyter <a href='command:jupyter.viewOutput'>log</a> for further details."
     ]
    }
   ],
   "source": [
    "def pad_to_length(tensor_list, max_len=7):\n",
    "    padded = pad_sequence(tensor_list, batch_first=True, padding_value=0)\n",
    "    if padded.size(1) < max_len:\n",
    "        pad_size = max_len - padded.size(1)\n",
    "        padded = F.pad(padded, (0, pad_size), value=0)\n",
    "    else:\n",
    "        padded = padded[:, :max_len]\n",
    "    return padded\n",
    "\n",
    "# Function to process and pad .npy dataset\n",
    "def process_round_data(npy_file, max_len=7):\n",
    "    data = np.load(npy_file)\n",
    "    x = data[:, :-1]\n",
    "    y = data[:, -1]\n",
    "    x_tensor_list = [torch.tensor(seq, dtype=torch.long) for seq in x]\n",
    "    x_padded = pad_to_length(x_tensor_list, max_len=max_len)\n",
    "    y_tensor = torch.tensor(y, dtype=torch.float)\n",
    "    return x_padded, y_tensor\n",
    "\n",
    "# === Load and process each round ===\n",
    "x_first, y_first = process_round_data('data_for_first_round.npy', max_len=7)\n",
    "x_second, y_second = process_round_data('data_for_second_round.npy', max_len=7)\n",
    "x_third, y_third = process_round_data('data_for_third_round.npy', max_len=7)\n",
    "\n",
    "# === Concatenate all rounds and repeat them===\n",
    "x_first_repeated = x_first.repeat((20, 1))        \n",
    "y_first_repeated = y_first.repeat((20,)) \n",
    "x_second_repeated = x_second.repeat((5, 1))        \n",
    "y_second_repeated = y_second.repeat((5,))           \n",
    "\n",
    "x_all = torch.cat([x_first_repeated, x_second_repeated, x_third], dim=0)\n",
    "y_all = torch.cat([y_first_repeated, y_second_repeated, y_third], dim=0)\n",
    "\n",
    "# === Final dataset and dataloader ===\n",
    "dataset_all = TensorDataset(x_all, y_all)\n",
    "dataloader_all = DataLoader(dataset_all, batch_size=32, shuffle=True)\n",
    "\n",
    "# === Inspect sizes ===\n",
    "print(\"First round input shape:\", x_first.shape)\n",
    "print(\"First round label shape:\", y_first.shape)\n",
    "\n",
    "print(\"First round repeated input shape:\", x_first_repeated.shape)\n",
    "print(\"First round repeated label shape:\", y_first_repeated.shape)\n",
    "\n",
    "print(\"Second round input shape:\", x_second.shape)\n",
    "print(\"Second round label shape:\", y_second.shape)\n",
    "\n",
    "print(\"Second round repeated input shape:\", x_second_repeated.shape)\n",
    "print(\"Second round repeated label shape:\", y_second_repeated.shape)\n",
    "\n",
    "print(\"Third round input shape:\", x_third.shape)\n",
    "print(\"Third round label shape:\", y_third.shape)\n",
    "\n",
    "print(\"Combined input shape:\", x_all.shape)\n",
    "print(\"Combined label shape:\", y_all.shape)"
   ]
  },
  {
   "cell_type": "code",
   "execution_count": null,
   "id": "1f3c4a59",
   "metadata": {},
   "outputs": [
    {
     "ename": "",
     "evalue": "",
     "output_type": "error",
     "traceback": [
      "\u001b[1;31mnotebook controller is DISPOSED. \n",
      "\u001b[1;31mView Jupyter <a href='command:jupyter.viewOutput'>log</a> for further details."
     ]
    },
    {
     "ename": "",
     "evalue": "",
     "output_type": "error",
     "traceback": [
      "\u001b[1;31mnotebook controller is DISPOSED. \n",
      "\u001b[1;31mView Jupyter <a href='command:jupyter.viewOutput'>log</a> for further details."
     ]
    }
   ],
   "source": [
    "class EmbeddingNetLinear(nn.Module):\n",
    "    def __init__(self, num_cards=7, embed_dim=16):\n",
    "        super(EmbeddingNetLinear, self).__init__()\n",
    "        self.num_cards = num_cards\n",
    "        self.embed_dim = embed_dim\n",
    "\n",
    "        self.embedding = nn.Embedding(53, embed_dim, padding_idx=0)\n",
    "\n",
    "        self.fc1 = nn.Linear(num_cards * embed_dim, 128)  # Increased capacity\n",
    "        self.fc2 = nn.Linear(128, 64)                     # New layer\n",
    "        self.fc3 = nn.Linear(64, 24)\n",
    "        self.fc4 = nn.Linear(24, 1)                       # Output layer\n",
    "\n",
    "    def forward(self, x):\n",
    "        embedded = self.embedding(x)  # Shape: [batch_size, num_cards, embed_dim]\n",
    "        flat = embedded.view(x.size(0), self.num_cards * self.embed_dim)\n",
    "        out = F.relu(self.fc1(flat))\n",
    "        out = F.relu(self.fc2(out))\n",
    "        out = F.relu(self.fc3(out))\n",
    "        return self.fc4(out).squeeze(1)\n",
    "    \n",
    "\n",
    "class EmbeddingNetConv1D(nn.Module):\n",
    "    def __init__(self, num_cards=7, embed_dim=16):\n",
    "        super(EmbeddingNetConv1D, self).__init__()\n",
    "        self.num_cards = num_cards\n",
    "        self.embed_dim = embed_dim\n",
    "\n",
    "        self.embedding = nn.Embedding(53, embed_dim, padding_idx=0)\n",
    "\n",
    "        self.conv1 = nn.Conv1d(in_channels=embed_dim, out_channels=16, kernel_size=2)\n",
    "        self.conv2 = nn.Conv1d(in_channels=16, out_channels=32, kernel_size=5)\n",
    "        \n",
    "\n",
    "        self.pool = nn.AdaptiveMaxPool1d(1)  # Reduces to [batch, 64, 1]\n",
    "\n",
    "        self.fc = nn.Linear(32, 1)  # Final output layer\n",
    "\n",
    "    def forward(self, x):\n",
    "        x = self.embedding(x)           \n",
    "        x = x.transpose(1, 2)           \n",
    "        x = F.relu(self.conv1(x))       \n",
    "        x = F.relu(self.conv2(x))           \n",
    "        x = self.pool(x).squeeze(-1)    \n",
    "        return self.fc(x).squeeze(1)"
   ]
  },
  {
   "cell_type": "code",
   "execution_count": null,
   "id": "baf99905",
   "metadata": {},
   "outputs": [
    {
     "ename": "",
     "evalue": "",
     "output_type": "error",
     "traceback": [
      "\u001b[1;31mnotebook controller is DISPOSED. \n",
      "\u001b[1;31mView Jupyter <a href='command:jupyter.viewOutput'>log</a> for further details."
     ]
    },
    {
     "ename": "",
     "evalue": "",
     "output_type": "error",
     "traceback": [
      "\u001b[1;31mnotebook controller is DISPOSED. \n",
      "\u001b[1;31mView Jupyter <a href='command:jupyter.viewOutput'>log</a> for further details."
     ]
    }
   ],
   "source": [
    "def train_model(model, dataloader, epochs=10, lr=0.001):\n",
    "\n",
    "    optimizer = torch.optim.Adam(model.parameters(), lr=lr)\n",
    "    criterion = nn.MSELoss() \n",
    "\n",
    "    for epoch in range(1, epochs + 1):\n",
    "        model.train()\n",
    "        total_loss = 0\n",
    "        correct = 0\n",
    "        total = 0\n",
    "\n",
    "        for x_batch, y_batch in dataloader:\n",
    "            x_batch = x_batch\n",
    "            y_batch = y_batch\n",
    "\n",
    "            optimizer.zero_grad()\n",
    "            preds = model(x_batch)\n",
    "\n",
    "            loss = criterion(preds, y_batch)\n",
    "            loss.backward()\n",
    "            optimizer.step()\n",
    "\n",
    "            total_loss += loss.item()\n",
    "            predicted = (preds > 0.5).float()\n",
    "            # Accuracy: prediction within ±tolerance of target\n",
    "            within_tolerance = (torch.abs(preds - y_batch) <= 0.1).float()\n",
    "            correct += within_tolerance.sum().item()\n",
    "            total += y_batch.size(0)\n",
    "\n",
    "        acc = correct / total\n",
    "        print(f\"Epoch {epoch}/{epochs} | Loss: {total_loss:.4f} | Accuracy: {acc:.4f}\")"
   ]
  },
  {
   "cell_type": "code",
   "execution_count": null,
   "id": "90e72cfa",
   "metadata": {},
   "outputs": [
    {
     "name": "stdout",
     "output_type": "stream",
     "text": [
      "Epoch 1/50 | Loss: 129798.0548 | Accuracy: 0.0475\n",
      "Epoch 2/50 | Loss: 123092.0829 | Accuracy: 0.0542\n",
      "Epoch 3/50 | Loss: 119497.0814 | Accuracy: 0.0556\n",
      "Epoch 4/50 | Loss: 117370.3425 | Accuracy: 0.0575\n",
      "Epoch 5/50 | Loss: 110622.0256 | Accuracy: 0.0585\n",
      "Epoch 6/50 | Loss: 105840.7149 | Accuracy: 0.0586\n",
      "Epoch 7/50 | Loss: 95180.8403 | Accuracy: 0.0593\n",
      "Epoch 8/50 | Loss: 88628.2484 | Accuracy: 0.0594\n",
      "Epoch 9/50 | Loss: 75772.4680 | Accuracy: 0.0596\n",
      "Epoch 10/50 | Loss: 77856.7312 | Accuracy: 0.0610\n",
      "Epoch 11/50 | Loss: 72833.4002 | Accuracy: 0.0607\n",
      "Epoch 12/50 | Loss: 84724.8174 | Accuracy: 0.0608\n",
      "Epoch 13/50 | Loss: 82239.6860 | Accuracy: 0.0613\n",
      "Epoch 14/50 | Loss: 81754.9895 | Accuracy: 0.0614\n",
      "Epoch 15/50 | Loss: 77947.7334 | Accuracy: 0.0615\n",
      "Epoch 16/50 | Loss: 79288.3177 | Accuracy: 0.0613\n",
      "Epoch 17/50 | Loss: 63036.3852 | Accuracy: 0.0612\n",
      "Epoch 18/50 | Loss: 70839.0707 | Accuracy: 0.0620\n",
      "Epoch 19/50 | Loss: 66265.2816 | Accuracy: 0.0620\n",
      "Epoch 20/50 | Loss: 61471.7275 | Accuracy: 0.0625\n",
      "Epoch 21/50 | Loss: 49379.5893 | Accuracy: 0.0622\n",
      "Epoch 22/50 | Loss: 55397.4710 | Accuracy: 0.0630\n",
      "Epoch 23/50 | Loss: 55702.9899 | Accuracy: 0.0637\n",
      "Epoch 24/50 | Loss: 50981.3358 | Accuracy: 0.0640\n",
      "Epoch 25/50 | Loss: 38808.3505 | Accuracy: 0.0640\n",
      "Epoch 26/50 | Loss: 45948.3051 | Accuracy: 0.0640\n",
      "Epoch 27/50 | Loss: 63927.8083 | Accuracy: 0.0653\n",
      "Epoch 28/50 | Loss: 41505.1800 | Accuracy: 0.0653\n",
      "Epoch 29/50 | Loss: 44549.2794 | Accuracy: 0.0655\n",
      "Epoch 30/50 | Loss: 47648.1489 | Accuracy: 0.0669\n",
      "Epoch 31/50 | Loss: 45012.5421 | Accuracy: 0.0669\n",
      "Epoch 32/50 | Loss: 44377.0101 | Accuracy: 0.0670\n",
      "Epoch 33/50 | Loss: 48417.7885 | Accuracy: 0.0678\n",
      "Epoch 34/50 | Loss: 35484.4540 | Accuracy: 0.0683\n",
      "Epoch 35/50 | Loss: 39343.8544 | Accuracy: 0.0677\n",
      "Epoch 36/50 | Loss: 50563.9305 | Accuracy: 0.0681\n",
      "Epoch 37/50 | Loss: 40470.3322 | Accuracy: 0.0689\n",
      "Epoch 38/50 | Loss: 35347.0043 | Accuracy: 0.0689\n",
      "Epoch 39/50 | Loss: 35393.8868 | Accuracy: 0.0693\n",
      "Epoch 40/50 | Loss: 41798.9271 | Accuracy: 0.0691\n",
      "Epoch 41/50 | Loss: 42690.2499 | Accuracy: 0.0694\n",
      "Epoch 42/50 | Loss: 36243.3498 | Accuracy: 0.0695\n",
      "Epoch 43/50 | Loss: 39854.9331 | Accuracy: 0.0701\n",
      "Epoch 44/50 | Loss: 35050.7880 | Accuracy: 0.0698\n",
      "Epoch 45/50 | Loss: 43312.8363 | Accuracy: 0.0696\n",
      "Epoch 46/50 | Loss: 37033.6083 | Accuracy: 0.0701\n",
      "Epoch 47/50 | Loss: 39320.9636 | Accuracy: 0.0704\n",
      "Epoch 48/50 | Loss: 34953.9060 | Accuracy: 0.0712\n",
      "Epoch 49/50 | Loss: 35471.3507 | Accuracy: 0.0706\n",
      "Epoch 50/50 | Loss: 42608.9247 | Accuracy: 0.0707\n"
     ]
    },
    {
     "ename": "",
     "evalue": "",
     "output_type": "error",
     "traceback": [
      "\u001b[1;31mnotebook controller is DISPOSED. \n",
      "\u001b[1;31mView Jupyter <a href='command:jupyter.viewOutput'>log</a> for further details."
     ]
    },
    {
     "ename": "",
     "evalue": "",
     "output_type": "error",
     "traceback": [
      "\u001b[1;31mnotebook controller is DISPOSED. \n",
      "\u001b[1;31mView Jupyter <a href='command:jupyter.viewOutput'>log</a> for further details."
     ]
    }
   ],
   "source": [
    "linearModel = EmbeddingNetLinear(7, 12)\n",
    "train_model(linearModel, dataloader_all, 50, 0.001)"
   ]
  },
  {
   "cell_type": "markdown",
   "id": "ce762d41",
   "metadata": {},
   "source": [
    "## Get thresholds"
   ]
  },
  {
   "cell_type": "code",
   "execution_count": null,
   "id": "5d969c06",
   "metadata": {},
   "outputs": [
    {
     "ename": "",
     "evalue": "",
     "output_type": "error",
     "traceback": [
      "\u001b[1;31mnotebook controller is DISPOSED. \n",
      "\u001b[1;31mView Jupyter <a href='command:jupyter.viewOutput'>log</a> for further details."
     ]
    },
    {
     "ename": "",
     "evalue": "",
     "output_type": "error",
     "traceback": [
      "\u001b[1;31mnotebook controller is DISPOSED. \n",
      "\u001b[1;31mView Jupyter <a href='command:jupyter.viewOutput'>log</a> for further details."
     ]
    }
   ],
   "source": [
    "num_first = x_first.shape[0]\n",
    "num_second = x_second.shape[0]\n",
    "num_third = x_third.shape[0]\n",
    "\n",
    "# Calculate how many second/third per first\n",
    "repeat_second_per_first = num_second // num_first\n",
    "repeat_third_per_second = num_third // num_second\n",
    "\n",
    "x_all = []\n",
    "y_all = []\n",
    "\n",
    "for i in range(num_first):\n",
    "    x1 = x_first[i]\n",
    "    y1 = y_first[i]\n",
    "    \n",
    "    for j in range(repeat_second_per_first):\n",
    "        idx2 = i * repeat_second_per_first + j\n",
    "        x2 = x_second[idx2]\n",
    "        y2 = y_second[idx2]\n",
    "        \n",
    "        for k in range(repeat_third_per_second):\n",
    "            idx3 = idx2 * repeat_third_per_second + k\n",
    "            x3 = x_third[idx3]\n",
    "            y3 = y_third[idx3]\n",
    "            \n",
    "            # Append in [1, 2, 3] order for one hand\n",
    "            x_all.extend([x1, x2, x3])\n",
    "            y_all.extend([y1, y2, y3])\n",
    "\n",
    "x_all = torch.stack(x_all)  # shape: (num_hands * 3, 7)\n",
    "y_all = torch.tensor(y_all, dtype=torch.float)\n",
    "dataset_all_rounds = TensorDataset(x_all, y_all)"
   ]
  },
  {
   "cell_type": "code",
   "execution_count": null,
   "id": "e0880c6e",
   "metadata": {},
   "outputs": [
    {
     "ename": "",
     "evalue": "",
     "output_type": "error",
     "traceback": [
      "\u001b[1;31mnotebook controller is DISPOSED. \n",
      "\u001b[1;31mView Jupyter <a href='command:jupyter.viewOutput'>log</a> for further details."
     ]
    },
    {
     "ename": "",
     "evalue": "",
     "output_type": "error",
     "traceback": [
      "\u001b[1;31mnotebook controller is DISPOSED. \n",
      "\u001b[1;31mView Jupyter <a href='command:jupyter.viewOutput'>log</a> for further details."
     ]
    }
   ],
   "source": [
    "from torch.utils.data import DataLoader\n",
    "import torch\n",
    "import pandas as pd\n",
    "\n",
    "# 1. Create DataLoader\n",
    "dataloader = DataLoader(dataset_all_rounds, batch_size=264, shuffle=False)\n",
    "\n",
    "# 2. Set model to eval mode\n",
    "linearModel.eval()\n",
    "\n",
    "# 3. Collect everything\n",
    "all_preds = []\n",
    "all_inputs = []\n",
    "all_targets = []\n",
    "\n",
    "with torch.no_grad():\n",
    "    for x_batch, y_batch in dataloader:\n",
    "        preds = linearModel(x_batch)\n",
    "\n",
    "        all_inputs.append(x_batch)\n",
    "        all_targets.append(y_batch)\n",
    "        all_preds.append(preds)\n",
    "\n",
    "# 4. Concatenate everything\n",
    "all_inputs = torch.cat(all_inputs, dim=0)    # shape: (N, 7)\n",
    "all_targets = torch.cat(all_targets, dim=0)  # shape: (N,)\n",
    "all_preds = torch.cat(all_preds, dim=0)      # shape: (N,)\n",
    "\n",
    "# 5. Convert to NumPy for use with pandas\n",
    "inputs_np = all_inputs.cpu().numpy()\n",
    "targets_np = all_targets.cpu().numpy()\n",
    "preds_np = all_preds.cpu().numpy()\n",
    "\n",
    "# 6. Create DataFrame\n",
    "columns = [f\"C{i+1}\" for i in range(inputs_np.shape[1])]\n",
    "df_with_pred = pd.DataFrame(inputs_np, columns=columns)\n",
    "df_with_pred[\"y_true\"] = targets_np\n",
    "df_with_pred[\"y_pred\"] = preds_np"
   ]
  },
  {
   "cell_type": "code",
   "execution_count": null,
   "id": "e5463281",
   "metadata": {},
   "outputs": [
    {
     "name": "stdout",
     "output_type": "stream",
     "text": [
      "        C1  C2  C3  C4  C5  C6  C7    y_true    y_pred\n",
      "895040  51  52   8  36  21  20  23 -0.500000 -0.100241\n",
      "895041  51  52   0   0   0   0   0  1.250778  1.155277\n",
      "895042  51  52   8  36  21   0   0  0.596667 -0.078264\n",
      "895043  51  52   8  36  21  46  10  1.250000  0.022869\n",
      "895044  51  52   0   0   0   0   0  1.250778  1.155277\n",
      "895045  51  52   8  36  21   0   0  0.596667 -0.078264\n",
      "895046  51  52   8  36  21  28   2 -0.250000 -0.356565\n",
      "895047  51  52   0   0   0   0   0  1.250778  1.155277\n",
      "895048  51  52   8  36  21   0   0  0.596667 -0.078264\n",
      "895049  51  52   8  36  21  22  35  0.500000  0.228733\n"
     ]
    },
    {
     "ename": "",
     "evalue": "",
     "output_type": "error",
     "traceback": [
      "\u001b[1;31mnotebook controller is DISPOSED. \n",
      "\u001b[1;31mView Jupyter <a href='command:jupyter.viewOutput'>log</a> for further details."
     ]
    },
    {
     "ename": "",
     "evalue": "",
     "output_type": "error",
     "traceback": [
      "\u001b[1;31mnotebook controller is DISPOSED. \n",
      "\u001b[1;31mView Jupyter <a href='command:jupyter.viewOutput'>log</a> for further details."
     ]
    }
   ],
   "source": [
    "print(df_with_pred.tail(10))"
   ]
  },
  {
   "cell_type": "code",
   "execution_count": null,
   "id": "dc0f1cc6",
   "metadata": {},
   "outputs": [
    {
     "ename": "",
     "evalue": "",
     "output_type": "error",
     "traceback": [
      "\u001b[1;31mnotebook controller is DISPOSED. \n",
      "\u001b[1;31mView Jupyter <a href='command:jupyter.viewOutput'>log</a> for further details."
     ]
    },
    {
     "ename": "",
     "evalue": "",
     "output_type": "error",
     "traceback": [
      "\u001b[1;31mnotebook controller is DISPOSED. \n",
      "\u001b[1;31mView Jupyter <a href='command:jupyter.viewOutput'>log</a> for further details."
     ]
    }
   ],
   "source": [
    "df_with_pred[\"round\"] = df_with_pred.index % 3  # 0, 1, 2 repeating\n",
    "df_with_pred[\"hand_id\"] = df_with_pred.index // 3\n",
    "# Set random seed for reproducibility\n",
    "np.random.seed(42)\n",
    "\n",
    "# Get unique hand_ids\n",
    "unique_hands = df_with_pred[\"hand_id\"].unique()\n",
    "\n",
    "# Sample a % of them\n",
    "sampled_hands = np.random.choice(unique_hands, size=int(0.2 * len(unique_hands)), replace=False)\n",
    "\n",
    "# Filter the DataFrame to keep only those hands\n",
    "df_sample = df_with_pred[df_with_pred[\"hand_id\"].isin(sampled_hands)].copy()"
   ]
  },
  {
   "cell_type": "code",
   "execution_count": null,
   "id": "0968bc19",
   "metadata": {},
   "outputs": [
    {
     "ename": "",
     "evalue": "",
     "output_type": "error",
     "traceback": [
      "\u001b[1;31mnotebook controller is DISPOSED. \n",
      "\u001b[1;31mView Jupyter <a href='command:jupyter.viewOutput'>log</a> for further details."
     ]
    },
    {
     "ename": "",
     "evalue": "",
     "output_type": "error",
     "traceback": [
      "\u001b[1;31mnotebook controller is DISPOSED. \n",
      "\u001b[1;31mView Jupyter <a href='command:jupyter.viewOutput'>log</a> for further details."
     ]
    }
   ],
   "source": [
    "def evaluate_thresholds_fast(df, thresholds):\n",
    "    # Extract as numpy arrays for speed\n",
    "    y_pred = df[\"y_pred\"].values\n",
    "    y_true = df[\"y_true\"].values\n",
    "    rounds = df[\"round\"].values\n",
    "    hand_ids = df[\"hand_id\"].values\n",
    "\n",
    "    num_hands = hand_ids[-1] + 1  # assumes hand_ids are 0-based consecutive\n",
    "\n",
    "    # Pre-allocate returns and bets\n",
    "    total_return = 0\n",
    "    total_bet = 0\n",
    "\n",
    "    i = 0\n",
    "    while i < len(y_pred):\n",
    "        # Process 3 rows at a time: preflop (0), flop (1), river (2)\n",
    "        r = rounds[i:i+3]\n",
    "        yp = y_pred[i:i+3]\n",
    "        yt = y_true[i:i+3]\n",
    "\n",
    "        for j in range(3):\n",
    "            if yp[j] >= thresholds[r[j]]:\n",
    "                total_return += yt[j]\n",
    "                total_bet += 6 if r[j] == 0 else 4 if r[j] == 1 else 3\n",
    "                break\n",
    "        else:\n",
    "            total_return += -2\n",
    "            total_bet += 2  # fold penalty\n",
    "\n",
    "        i += 3  # jump to next hand\n",
    "\n",
    "    return total_return / total_bet if total_bet > 0 else float('-inf')"
   ]
  },
  {
   "cell_type": "code",
   "execution_count": null,
   "id": "345fb2a8",
   "metadata": {},
   "outputs": [
    {
     "name": "stdout",
     "output_type": "stream",
     "text": [
      "Evaluating thresholds: {0: np.float64(-0.5), 1: np.float64(-0.5), 2: np.float64(-0.5)}\n",
      "Evaluating thresholds: {0: np.float64(-0.2360679774997898), 1: np.float64(-0.5), 2: np.float64(-0.5)}\n",
      "Evaluating thresholds: {0: np.float64(0.23606797749978958), 1: np.float64(-0.5), 2: np.float64(-0.5)}\n",
      "Evaluating thresholds: {0: np.float64(-0.5278640450004206), 1: np.float64(-0.5), 2: np.float64(-0.5)}\n",
      "Evaluating thresholds: {0: np.float64(-0.7082039324993691), 1: np.float64(-0.5), 2: np.float64(-0.5)}\n",
      "Evaluating thresholds: {0: np.float64(-0.8196601125010514), 1: np.float64(-0.5), 2: np.float64(-0.5)}\n",
      "Evaluating thresholds: {0: np.float64(-0.8885438199983176), 1: np.float64(-0.5), 2: np.float64(-0.5)}\n",
      "Evaluating thresholds: {0: np.float64(-0.9311162925027339), 1: np.float64(-0.5), 2: np.float64(-0.5)}\n",
      "Evaluating thresholds: {0: np.float64(-0.9574275274955837), 1: np.float64(-0.5), 2: np.float64(-0.5)}\n",
      "Evaluating thresholds: {0: np.float64(-0.9736887650071504), 1: np.float64(-0.5), 2: np.float64(-0.5)}\n",
      "Evaluating thresholds: {0: np.float64(-0.9837387624884333), 1: np.float64(-0.5), 2: np.float64(-0.5)}\n",
      "Evaluating thresholds: {0: np.float64(-0.9686628942920394), 1: np.float64(-0.5), 2: np.float64(-0.5)}\n",
      "Evaluating thresholds: {0: np.float64(-0.9675885471830517), 1: np.float64(-0.5), 2: np.float64(-0.5)}\n",
      "Evaluating thresholds: {0: np.float64(-0.9681257207375455), 1: np.float64(-0.5), 2: np.float64(-0.5)}\n",
      "Evaluating thresholds: {0: np.float64(-0.9683309027775047), 1: np.float64(-0.5), 2: np.float64(-0.5)}\n",
      "Evaluating thresholds: {0: np.float64(-0.9684577122520804), 1: np.float64(-0.5), 2: np.float64(-0.5)}\n",
      "Evaluating thresholds: {0: np.float64(-0.9685360848174638), 1: np.float64(-0.5), 2: np.float64(-0.5)}\n",
      "Evaluating thresholds: {0: np.float64(-0.9685845217266562), 1: np.float64(-0.5), 2: np.float64(-0.5)}\n",
      "Evaluating thresholds: {0: np.float64(-0.9686178620102213), 1: np.float64(-0.5), 2: np.float64(-0.5)}\n",
      "Evaluating thresholds: {0: np.float64(-0.9686178620102213), 1: np.float64(-0.2360679774997898), 2: np.float64(-0.5)}\n",
      "Evaluating thresholds: {0: np.float64(-0.9686178620102213), 1: np.float64(0.23606797749978958), 2: np.float64(-0.5)}\n",
      "Evaluating thresholds: {0: np.float64(-0.9686178620102213), 1: np.float64(-0.5278640450004206), 2: np.float64(-0.5)}\n",
      "Evaluating thresholds: {0: np.float64(-0.9686178620102213), 1: np.float64(-0.7082039324993691), 2: np.float64(-0.5)}\n",
      "Evaluating thresholds: {0: np.float64(-0.9686178620102213), 1: np.float64(-0.8196601125010514), 2: np.float64(-0.5)}\n",
      "Evaluating thresholds: {0: np.float64(-0.9686178620102213), 1: np.float64(-0.8885438199983176), 2: np.float64(-0.5)}\n",
      "Evaluating thresholds: {0: np.float64(-0.9686178620102213), 1: np.float64(-0.9311162925027339), 2: np.float64(-0.5)}\n",
      "Evaluating thresholds: {0: np.float64(-0.9686178620102213), 1: np.float64(-0.9574275274955837), 2: np.float64(-0.5)}\n",
      "Evaluating thresholds: {0: np.float64(-0.9686178620102213), 1: np.float64(-0.9736887650071504), 2: np.float64(-0.5)}\n",
      "Evaluating thresholds: {0: np.float64(-0.9686178620102213), 1: np.float64(-0.9837387624884333), 2: np.float64(-0.5)}\n",
      "Evaluating thresholds: {0: np.float64(-0.9686178620102213), 1: np.float64(-0.9899500025187171), 2: np.float64(-0.5)}\n",
      "Evaluating thresholds: {0: np.float64(-0.9686178620102213), 1: np.float64(-0.9937887599697164), 2: np.float64(-0.5)}\n",
      "Evaluating thresholds: {0: np.float64(-0.9686178620102213), 1: np.float64(-0.9961612425490007), 2: np.float64(-0.5)}\n",
      "Evaluating thresholds: {0: np.float64(-0.9686178620102213), 1: np.float64(-0.9974617090357898), 2: np.float64(-0.5)}\n",
      "Evaluating thresholds: {0: np.float64(-0.9686178620102213), 1: np.float64(-0.9968114757923953), 2: np.float64(-0.5)}\n",
      "Evaluating thresholds: {0: np.float64(-0.9686178620102213), 1: np.float64(-0.9970598427907569), 2: np.float64(-0.5)}\n",
      "Evaluating thresholds: {0: np.float64(-0.9686178620102213), 1: np.float64(-0.9972133420374281), 2: np.float64(-0.5)}\n",
      "Evaluating thresholds: {0: np.float64(-0.9686178620102213), 1: np.float64(-0.9973082097891185), 2: np.float64(-0.5)}\n",
      "Evaluating thresholds: {0: np.float64(-0.9686178620102213), 1: np.float64(-0.9973668412840995), 2: np.float64(-0.5)}\n",
      "Evaluating thresholds: {0: np.float64(-0.9686178620102213), 1: np.float64(-0.9974030775408088), 2: np.float64(-0.5)}\n",
      "Evaluating thresholds: {0: np.float64(-0.9686178620102213), 1: np.float64(-0.9974030775408088), 2: np.float64(-1.8541019662496847)}\n",
      "Evaluating thresholds: {0: np.float64(-0.9686178620102213), 1: np.float64(-0.9974030775408088), 2: np.float64(-1.1458980337503157)}\n",
      "Evaluating thresholds: {0: np.float64(-0.9686178620102213), 1: np.float64(-0.9974030775408088), 2: np.float64(-2.291796067500631)}\n",
      "Evaluating thresholds: {0: np.float64(-0.9686178620102213), 1: np.float64(-0.9974030775408088), 2: np.float64(-2.015141971712568)}\n",
      "Evaluating thresholds: {0: np.float64(-0.9686178620102213), 1: np.float64(-0.9974030775408088), 2: np.float64(-1.9229065076310228)}\n",
      "Evaluating thresholds: {0: np.float64(-0.9686178620102213), 1: np.float64(-0.9974030775408088), 2: np.float64(-1.9295801585206225)}\n",
      "Evaluating thresholds: {0: np.float64(-0.9686178620102213), 1: np.float64(-0.9974030775408088), 2: np.float64(-1.9622618630208766)}\n",
      "Evaluating thresholds: {0: np.float64(-0.9686178620102213), 1: np.float64(-0.9974030775408088), 2: np.float64(-1.9454816565151998)}\n",
      "Evaluating thresholds: {0: np.float64(-0.9686178620102213), 1: np.float64(-0.9974030775408088), 2: np.float64(-1.9356539902825127)}\n",
      "Evaluating thresholds: {0: np.float64(-0.9686178620102213), 1: np.float64(-0.9974030775408088), 2: np.float64(-1.9270310507098463)}\n",
      "Evaluating thresholds: {0: np.float64(-0.9686178620102213), 1: np.float64(-0.9974030775408088), 2: np.float64(-1.931900155811716)}\n",
      "Evaluating thresholds: {0: np.float64(-0.9686178620102213), 1: np.float64(-0.9974030775408088), 2: np.float64(-1.9286064859778937)}\n",
      "Evaluating thresholds: {0: np.float64(-0.9686178620102213), 1: np.float64(-0.9974030775408088), 2: np.float64(-1.9304663186320126)}\n",
      "Evaluating thresholds: {0: np.float64(-0.9686178620102213), 1: np.float64(-0.9974030775408088), 2: np.float64(-1.9292082487032127)}\n",
      "Evaluating thresholds: {0: np.float64(-0.9686178620102213), 1: np.float64(-0.9974030775408088), 2: np.float64(-1.929918641563699)}\n",
      "Evaluating thresholds: {0: np.float64(-0.9686178620102213), 1: np.float64(-0.9974030775408088), 2: np.float64(-1.9294381016111217)}\n",
      "Evaluating thresholds: {0: np.float64(-0.9686178620102213), 1: np.float64(-0.9974030775408088), 2: np.float64(-1.9297094475384622)}\n",
      "Evaluating thresholds: {0: np.float64(-0.9686178620102213), 1: np.float64(-0.9974030775408088), 2: np.float64(-1.92952589760953)}\n",
      "Evaluating thresholds: {0: np.float64(-0.9686178620102213), 1: np.float64(-0.9974030775408088), 2: np.float64(-1.9294923625222142)}\n",
      "Evaluating thresholds: {0: np.float64(-0.9710644979591769), 1: np.float64(-1.0), 2: np.float64(-1.9369893976904942)}\n",
      "Evaluating thresholds: {0: np.float64(-0.2360679774997898), 1: np.float64(-0.9974030775408088), 2: np.float64(-1.92952589760953)}\n",
      "Evaluating thresholds: {0: np.float64(0.23606797749978958), 1: np.float64(-0.9974030775408088), 2: np.float64(-1.92952589760953)}\n",
      "Evaluating thresholds: {0: np.float64(-0.5278640450004206), 1: np.float64(-0.9974030775408088), 2: np.float64(-1.92952589760953)}\n",
      "Evaluating thresholds: {0: np.float64(-0.3433342772057806), 1: np.float64(-0.9974030775408088), 2: np.float64(-1.92952589760953)}\n",
      "Evaluating thresholds: {0: np.float64(-0.055728090000841335), 1: np.float64(-0.9974030775408088), 2: np.float64(-1.92952589760953)}\n",
      "Evaluating thresholds: {0: np.float64(-0.16718427000252378), 1: np.float64(-0.9974030775408088), 2: np.float64(-1.92952589760953)}\n",
      "Evaluating thresholds: {0: np.float64(-0.12461179749810736), 1: np.float64(-0.9974030775408088), 2: np.float64(-1.92952589760953)}\n",
      "Evaluating thresholds: {0: np.float64(-0.1811057069125408), 1: np.float64(-0.9974030775408088), 2: np.float64(-1.92952589760953)}\n",
      "Evaluating thresholds: {0: np.float64(-0.18224376305612533), 1: np.float64(-0.9974030775408088), 2: np.float64(-1.92952589760953)}\n",
      "Evaluating thresholds: {0: np.float64(-0.1748705771929948), 1: np.float64(-0.9974030775408088), 2: np.float64(-1.92952589760953)}\n",
      "Evaluating thresholds: {0: np.float64(-0.17872409928393884), 1: np.float64(-0.9974030775408088), 2: np.float64(-1.92952589760953)}\n",
      "Evaluating thresholds: {0: np.float64(-0.18019601374628091), 1: np.float64(-0.9974030775408088), 2: np.float64(-1.92952589760953)}\n",
      "Evaluating thresholds: {0: np.float64(-0.17963379245019873), 1: np.float64(-0.9974030775408088), 2: np.float64(-1.92952589760953)}\n",
      "Evaluating thresholds: {0: np.float64(-0.18054348561645872), 1: np.float64(-0.9974030775408088), 2: np.float64(-1.92952589760953)}\n",
      "Evaluating thresholds: {0: np.float64(-0.18036974968136987), 1: np.float64(-0.9974030775408088), 2: np.float64(-1.92952589760953)}\n",
      "Evaluating thresholds: {0: np.float64(-0.18043611090350653), 1: np.float64(-0.9974030775408088), 2: np.float64(-1.92952589760953)}\n",
      "Evaluating thresholds: {0: np.float64(-0.18047712439432195), 1: np.float64(-0.9974030775408088), 2: np.float64(-1.92952589760953)}\n",
      "Evaluating thresholds: {0: np.float64(-0.18047712439432195), 1: np.float64(-0.2360679774997898), 2: np.float64(-1.92952589760953)}\n",
      "Evaluating thresholds: {0: np.float64(-0.18047712439432195), 1: np.float64(0.2360679774997897), 2: np.float64(-1.92952589760953)}\n",
      "Evaluating thresholds: {0: np.float64(-0.18047712439432195), 1: np.float64(-0.5278640450004206), 2: np.float64(-1.92952589760953)}\n",
      "Evaluating thresholds: {0: np.float64(-0.18047712439432195), 1: np.float64(-0.7082039324993691), 2: np.float64(-1.92952589760953)}\n",
      "Evaluating thresholds: {0: np.float64(-0.18047712439432195), 1: np.float64(-0.5557645411391032), 2: np.float64(-1.92952589760953)}\n",
      "Evaluating thresholds: {0: np.float64(-0.18047712439432195), 1: np.float64(-0.5891683339279156), 2: np.float64(-1.92952589760953)}\n",
      "Evaluating thresholds: {0: np.float64(-0.18047712439432195), 1: np.float64(-0.6346358867110224), 2: np.float64(-1.92952589760953)}\n",
      "Evaluating thresholds: {0: np.float64(-0.18047712439432195), 1: np.float64(-0.6309620522527146), 2: np.float64(-1.92952589760953)}\n",
      "Evaluating thresholds: {0: np.float64(-0.18047712439432195), 1: np.float64(-0.6627363797162622), 2: np.float64(-1.92952589760953)}\n",
      "Evaluating thresholds: {0: np.float64(-0.18047712439432195), 1: np.float64(-0.6453693199383954), 2: np.float64(-1.92952589760953)}\n",
      "Evaluating thresholds: {0: np.float64(-0.18047712439432195), 1: np.float64(-0.6563671969159952), 2: np.float64(-1.92952589760953)}\n",
      "Evaluating thresholds: {0: np.float64(-0.18047712439432195), 1: np.float64(-0.6495701351397485), 2: np.float64(-1.92952589760953)}\n",
      "Evaluating thresholds: {0: np.float64(-0.18047712439432195), 1: np.float64(-0.6404833458580841), 2: np.float64(-1.92952589760953)}\n",
      "Evaluating thresholds: {0: np.float64(-0.18047712439432195), 1: np.float64(-0.6435030439078675), 2: np.float64(-1.92952589760953)}\n",
      "Evaluating thresholds: {0: np.float64(-0.18047712439432195), 1: np.float64(-0.642349621888612), 2: np.float64(-1.92952589760953)}\n",
      "Evaluating thresholds: {0: np.float64(-0.18047712439432195), 1: np.float64(-0.6437160202801943), 2: np.float64(-1.92952589760953)}\n",
      "Evaluating thresholds: {0: np.float64(-0.18047712439432195), 1: np.float64(-0.6432365846701802), 2: np.float64(-1.92952589760953)}\n",
      "Evaluating thresholds: {0: np.float64(-0.18047712439432195), 1: np.float64(-0.6434593676051653), 2: np.float64(-1.92952589760953)}\n",
      "Evaluating thresholds: {0: np.float64(-0.18047712439432195), 1: np.float64(-0.6435843936432957), 2: np.float64(-1.92952589760953)}\n",
      "Evaluating thresholds: {0: np.float64(-0.18047712439432195), 1: np.float64(-0.6436177322246082), 2: np.float64(-1.92952589760953)}\n",
      "Evaluating thresholds: {0: np.float64(-0.18047712439432195), 1: np.float64(-0.6436552749211539), 2: np.float64(-1.92952589760953)}\n",
      "Evaluating thresholds: {0: np.float64(-0.18047712439432195), 1: np.float64(-0.6436177322246082), 2: np.float64(-1.8541019662496847)}\n",
      "Evaluating thresholds: {0: np.float64(-0.18047712439432195), 1: np.float64(-0.6436177322246082), 2: np.float64(-1.1458980337503157)}\n",
      "Evaluating thresholds: {0: np.float64(-0.18047712439432195), 1: np.float64(-0.6436177322246082), 2: np.float64(-2.291796067500631)}\n",
      "Evaluating thresholds: {0: np.float64(-0.18047712439432195), 1: np.float64(-0.6436177322246082), 2: np.float64(-2.0424138330124055)}\n",
      "Evaluating thresholds: {0: np.float64(-0.18047712439432195), 1: np.float64(-0.6436177322246082), 2: np.float64(-1.9634878865754157)}\n",
      "Evaluating thresholds: {0: np.float64(-0.18047712439432195), 1: np.float64(-0.6436177322246082), 2: np.float64(-1.9560407486100362)}\n",
      "Evaluating thresholds: {0: np.float64(-0.18047712439432195), 1: np.float64(-0.6436177322246082), 2: np.float64(-1.91710359852016)}\n",
      "Evaluating thresholds: {0: np.float64(-0.18047712439432195), 1: np.float64(-0.6436177322246082), 2: np.float64(-1.9498096848198099)}\n",
      "Evaluating thresholds: {0: np.float64(-0.18047712439432195), 1: np.float64(-0.6436177322246082), 2: np.float64(-1.9577070097451712)}\n",
      "Evaluating thresholds: {0: np.float64(-0.18047712439432195), 1: np.float64(-0.6436177322246082), 2: np.float64(-1.9536606940282384)}\n",
      "Evaluating thresholds: {0: np.float64(-0.18047712439432195), 1: np.float64(-0.6436177322246082), 2: np.float64(-1.9521897394016074)}\n",
      "Evaluating thresholds: {0: np.float64(-0.18047712439432195), 1: np.float64(-0.6436177322246082), 2: np.float64(-1.9538070194862602)}\n",
      "Evaluating thresholds: {0: np.float64(-0.18047712439432195), 1: np.float64(-0.6436177322246082), 2: np.float64(-1.9537338567572493)}\n",
      "Evaluating thresholds: {0: np.float64(-0.18047712439432195), 1: np.float64(-0.6436177322246082), 2: np.float64(-1.9537671904496448)}\n",
      "Evaluating thresholds: {0: np.float64(0.6076636132215774), 1: np.float64(-0.2898323869084075), 2: np.float64(-1.9780084832897595)}\n",
      "Evaluating thresholds: {0: np.float64(-0.2360679774997898), 1: np.float64(-0.6436177322246082), 2: np.float64(-1.9537671904496448)}\n",
      "Evaluating thresholds: {0: np.float64(0.23606797749978958), 1: np.float64(-0.6436177322246082), 2: np.float64(-1.9537671904496448)}\n",
      "Evaluating thresholds: {0: np.float64(-0.5278640450004206), 1: np.float64(-0.6436177322246082), 2: np.float64(-1.9537671904496448)}\n",
      "Evaluating thresholds: {0: np.float64(-0.25216030928705835), 1: np.float64(-0.6436177322246082), 2: np.float64(-1.9537671904496448)}\n",
      "Evaluating thresholds: {0: np.float64(-0.31245128051097754), 1: np.float64(-0.6436177322246082), 2: np.float64(-1.9537671904496448)}\n",
      "Evaluating thresholds: {0: np.float64(-0.2751894110798536), 1: np.float64(-0.6436177322246082), 2: np.float64(-1.9537671904496448)}\n",
      "Evaluating thresholds: {0: np.float64(-0.25151564955094674), 1: np.float64(-0.6436177322246082), 2: np.float64(-1.9537671904496448)}\n",
      "Evaluating thresholds: {0: np.float64(-0.26095664344152497), 1: np.float64(-0.6436177322246082), 2: np.float64(-1.9537671904496448)}\n",
      "Evaluating thresholds: {0: np.float64(-0.25610276179016495), 1: np.float64(-0.6436177322246082), 2: np.float64(-1.9537671904496448)}\n",
      "Evaluating thresholds: {0: np.float64(-0.25366619214421293), 1: np.float64(-0.6436177322246082), 2: np.float64(-1.9537671904496448)}\n",
      "Evaluating thresholds: {0: np.float64(-0.25273550535541556), 1: np.float64(-0.6436177322246082), 2: np.float64(-1.9537671904496448)}\n",
      "Evaluating thresholds: {0: np.float64(-0.25244790732123695), 1: np.float64(-0.6436177322246082), 2: np.float64(-1.9537671904496448)}\n",
      "Evaluating thresholds: {0: np.float64(-0.25255775999519553), 1: np.float64(-0.6436177322246082), 2: np.float64(-1.9537671904496448)}\n",
      "Evaluating thresholds: {0: np.float64(-0.252625652681457), 1: np.float64(-0.6436177322246082), 2: np.float64(-1.9537671904496448)}\n",
      "Evaluating thresholds: {0: np.float64(-0.2526676126691541), 1: np.float64(-0.6436177322246082), 2: np.float64(-1.9537671904496448)}\n",
      "Evaluating thresholds: {0: np.float64(-0.2527009470732454), 1: np.float64(-0.6436177322246082), 2: np.float64(-1.9537671904496448)}\n",
      "Evaluating thresholds: {0: np.float64(-0.2527009470732454), 1: np.float64(-0.2360679774997898), 2: np.float64(-1.9537671904496448)}\n",
      "Evaluating thresholds: {0: np.float64(-0.2527009470732454), 1: np.float64(0.23606797749978958), 2: np.float64(-1.9537671904496448)}\n",
      "Evaluating thresholds: {0: np.float64(-0.2527009470732454), 1: np.float64(-0.5278640450004206), 2: np.float64(-1.9537671904496448)}\n",
      "Evaluating thresholds: {0: np.float64(-0.2527009470732454), 1: np.float64(-0.7082039324993691), 2: np.float64(-1.9537671904496448)}\n",
      "Evaluating thresholds: {0: np.float64(-0.2527009470732454), 1: np.float64(-0.5565672394966742), 2: np.float64(-1.9537671904496448)}\n",
      "Evaluating thresholds: {0: np.float64(-0.2527009470732454), 1: np.float64(-0.5802668178692895), 2: np.float64(-1.9537671904496448)}\n",
      "Evaluating thresholds: {0: np.float64(-0.2527009470732454), 1: np.float64(-0.6291344472353885), 2: np.float64(-1.9537671904496448)}\n",
      "Evaluating thresholds: {0: np.float64(-0.2527009470732454), 1: np.float64(-0.6059711090474957), 2: np.float64(-1.9537671904496448)}\n",
      "Evaluating thresholds: {0: np.float64(-0.2527009470732454), 1: np.float64(-0.6593363031332701), 2: np.float64(-1.9537671904496448)}\n",
      "Evaluating thresholds: {0: np.float64(-0.2527009470732454), 1: np.float64(-0.6107362795844062), 2: np.float64(-1.9537671904496448)}\n",
      "Evaluating thresholds: {0: np.float64(-0.2527009470732454), 1: np.float64(-0.6406705296650528), 2: np.float64(-1.9537671904496448)}\n",
      "Evaluating thresholds: {0: np.float64(-0.2527009470732454), 1: np.float64(-0.6478002207036058), 2: np.float64(-1.9537671904496448)}\n",
      "Evaluating thresholds: {0: np.float64(-0.2527009470732454), 1: np.float64(-0.6395817781489322), 2: np.float64(-1.9537671904496448)}\n",
      "Evaluating thresholds: {0: np.float64(-0.2527009470732454), 1: np.float64(-0.6436165996982981), 2: np.float64(-1.9537671904496448)}\n",
      "Evaluating thresholds: {0: np.float64(-0.2527009470732454), 1: np.float64(-0.6452146007262776), 2: np.float64(-1.9537671904496448)}\n",
      "Evaluating thresholds: {0: np.float64(-0.2527009470732454), 1: np.float64(-0.6422223531953098), 2: np.float64(-1.9537671904496448)}\n",
      "Evaluating thresholds: {0: np.float64(-0.2527009470732454), 1: np.float64(-0.6442269817769289), 2: np.float64(-1.9537671904496448)}\n",
      "Evaluating thresholds: {0: np.float64(-0.2527009470732454), 1: np.float64(-0.6430840449228522), 2: np.float64(-1.9537671904496448)}\n",
      "Evaluating thresholds: {0: np.float64(-0.2527009470732454), 1: np.float64(-0.6438497449062113), 2: np.float64(-1.9537671904496448)}\n",
      "Evaluating thresholds: {0: np.float64(-0.2527009470732454), 1: np.float64(-0.6434131818749488), 2: np.float64(-1.9537671904496448)}\n",
      "Evaluating thresholds: {0: np.float64(-0.2527009470732454), 1: np.float64(-0.6437056532434068), 2: np.float64(-1.9537671904496448)}\n",
      "Evaluating thresholds: {0: np.float64(-0.2527009470732454), 1: np.float64(-0.6435389010036962), 2: np.float64(-1.9537671904496448)}\n",
      "Evaluating thresholds: {0: np.float64(-0.2527009470732454), 1: np.float64(-0.6435055676691935), 2: np.float64(-1.9537671904496448)}\n",
      "Evaluating thresholds: {0: np.float64(-0.2527009470732454), 1: np.float64(-0.6434702794358698), 2: np.float64(-1.9537671904496448)}\n",
      "Evaluating thresholds: {0: np.float64(-0.2527009470732454), 1: np.float64(-0.6435055676691935), 2: np.float64(-1.8541019662496847)}\n",
      "Evaluating thresholds: {0: np.float64(-0.2527009470732454), 1: np.float64(-0.6435055676691935), 2: np.float64(-1.1458980337503157)}\n",
      "Evaluating thresholds: {0: np.float64(-0.2527009470732454), 1: np.float64(-0.6435055676691935), 2: np.float64(-2.291796067500631)}\n",
      "Evaluating thresholds: {0: np.float64(-0.2527009470732454), 1: np.float64(-0.6435055676691935), 2: np.float64(-2.0429149999245357)}\n",
      "Evaluating thresholds: {0: np.float64(-0.2527009470732454), 1: np.float64(-0.6435055676691935), 2: np.float64(-1.9701867382139608)}\n",
      "Evaluating thresholds: {0: np.float64(-0.2527009470732454), 1: np.float64(-0.6435055676691935), 2: np.float64(-1.962114689756315)}\n",
      "Evaluating thresholds: {0: np.float64(-0.2527009470732454), 1: np.float64(-0.6435055676691935), 2: np.float64(-1.920857500594227)}\n",
      "Evaluating thresholds: {0: np.float64(-0.2527009470732454), 1: np.float64(-0.6435055676691935), 2: np.float64(-1.9463558457766812)}\n",
      "Evaluating thresholds: {0: np.float64(-0.2527009470732454), 1: np.float64(-0.6435055676691935), 2: np.float64(-1.9405689924859313)}\n",
      "Evaluating thresholds: {0: np.float64(-0.2527009470732454), 1: np.float64(-0.6435055676691935), 2: np.float64(-1.9466703033392554)}\n",
      "Evaluating thresholds: {0: np.float64(-0.2527009470732454), 1: np.float64(-0.6435055676691935), 2: np.float64(-1.9438296797708805)}\n",
      "Evaluating thresholds: {0: np.float64(-0.2527009470732454), 1: np.float64(-0.6435055676691935), 2: np.float64(-1.9425842080547144)}\n",
      "Evaluating thresholds: {0: np.float64(-0.2527009470732454), 1: np.float64(-0.6435055676691935), 2: np.float64(-1.9445202152834693)}\n",
      "Evaluating thresholds: {0: np.float64(-0.2527009470732454), 1: np.float64(-0.6435055676691935), 2: np.float64(-1.9433539519073317)}\n",
      "Evaluating thresholds: {0: np.float64(-0.2527009470732454), 1: np.float64(-0.6435055676691935), 2: np.float64(-1.9432928877520055)}\n",
      "Evaluating thresholds: {0: np.float64(-0.2527009470732454), 1: np.float64(-0.6435055676691935), 2: np.float64(-1.9432595542633133)}\n",
      "Evaluating thresholds: {0: np.float64(-0.2527009470732454), 1: np.float64(-0.6435055676691935), 2: np.float64(-1.943001594965802)}\n",
      "Evaluating thresholds: {0: np.float64(-0.2527009470732454), 1: np.float64(-0.6435055676691935), 2: np.float64(-1.943161022579378)}\n",
      "Evaluating thresholds: {0: np.float64(-0.2527009470732454), 1: np.float64(-0.6435055676691935), 2: np.float64(-1.9431001266497372)}\n",
      "Evaluating thresholds: {0: np.float64(-0.2527009470732454), 1: np.float64(-0.6435055676691935), 2: np.float64(-1.9430624908954426)}\n",
      "Optimization terminated successfully.\n",
      "         Current function value: 0.023145\n",
      "         Iterations: 3\n",
      "         Function evaluations: 172\n",
      "\n",
      "✅ Optimization complete.\n",
      "Best thresholds: {0: np.float64(-0.2527009470732454), 1: np.float64(-0.6435055676691935), 2: np.float64(-1.9431001266497372)}\n",
      "Max return: -0.023145238\n"
     ]
    },
    {
     "ename": "",
     "evalue": "",
     "output_type": "error",
     "traceback": [
      "\u001b[1;31mnotebook controller is DISPOSED. \n",
      "\u001b[1;31mView Jupyter <a href='command:jupyter.viewOutput'>log</a> for further details."
     ]
    },
    {
     "ename": "",
     "evalue": "",
     "output_type": "error",
     "traceback": [
      "\u001b[1;31mnotebook controller is DISPOSED. \n",
      "\u001b[1;31mView Jupyter <a href='command:jupyter.viewOutput'>log</a> for further details."
     ]
    }
   ],
   "source": [
    "from scipy.optimize import minimize\n",
    "import numpy as np\n",
    "\n",
    "# Objective function: negative of your custom evaluate_thresholds\n",
    "def objective(threshold_array):\n",
    "    thresholds = {0: threshold_array[0], 1: threshold_array[1], 2: threshold_array[2]}\n",
    "    print(f\"Evaluating thresholds: {thresholds}\")\n",
    "    return -evaluate_thresholds_fast(df_sample, thresholds)\n",
    "\n",
    "# Initial guess (you can tweak this)\n",
    "initial_guess = [-0.5, -0.5, -0.5]\n",
    "\n",
    "# Optional: bounds for each threshold\n",
    "bounds = [(-2, 1), (-2, 1), (-3, 0)]\n",
    "\n",
    "result = minimize(\n",
    "    objective,\n",
    "    initial_guess,\n",
    "    method='Powell',  # or 'Powell' or 'L-BFGS-B'\n",
    "    bounds=bounds,\n",
    "    options={'disp': True, 'maxiter': 200}\n",
    ")\n",
    "\n",
    "# Extract results\n",
    "best_thresholds = {i: t for i, t in enumerate(result.x)}\n",
    "max_return = -result.fun\n",
    "\n",
    "print(\"\\n✅ Optimization complete.\")\n",
    "print(\"Best thresholds:\", best_thresholds)\n",
    "print(\"Max return:\", max_return)"
   ]
  },
  {
   "cell_type": "markdown",
   "id": "e2155db6",
   "metadata": {},
   "source": [
    "## Testing model "
   ]
  },
  {
   "cell_type": "code",
   "execution_count": null,
   "id": "1674ffe8",
   "metadata": {},
   "outputs": [
    {
     "ename": "",
     "evalue": "",
     "output_type": "error",
     "traceback": [
      "\u001b[1;31mnotebook controller is DISPOSED. \n",
      "\u001b[1;31mView Jupyter <a href='command:jupyter.viewOutput'>log</a> for further details."
     ]
    },
    {
     "ename": "",
     "evalue": "",
     "output_type": "error",
     "traceback": [
      "\u001b[1;31mnotebook controller is DISPOSED. \n",
      "\u001b[1;31mView Jupyter <a href='command:jupyter.viewOutput'>log</a> for further details."
     ]
    }
   ],
   "source": [
    "import random\n",
    "# define card set\n",
    "suits = ['Hearts', 'Diamonds', 'Clubs', 'Spades']\n",
    "ranks = ['2', '3', '4', '5', '6', '7', '8', '9', '10', 'J', 'Q', 'K', 'A']\n",
    "rank_values = {rank: i for i, rank in enumerate(ranks, start=2)}\n",
    "\n",
    "deck = [{'rank': rank, 'suit': suit} for suit in suits for rank in ranks]\n",
    "\n",
    "combinations = [\"High Card\", \"One Pair\", \"Two Pair\", \"Three of a Kind\", \"Four of a Kind\", \n",
    "                \"Full House\", \"Straight\", \"Flush\", \"Straight Flush\", \"Royal Flush\"]\n",
    "combinations_values = {combination: i for i, combination in enumerate(combinations, start=1)}\n",
    "# set ordered winning combinations\n",
    "winning_hands = [\"High Card\", \"One Pair\", \"Two Pair\", \"Three of a Kind\", \"Straight\", \"Flush\", \n",
    "                \"Full House\", \"Four of a Kind\", \"Straight Flush\", \"Royal Flush\"]\n",
    "\n",
    "winning_hand_ranks = {hand: i for i, hand in enumerate(winning_hands)}\n",
    "#enumerate the deck\n",
    "enumerated_deck = dict(enumerate(deck, start=1))\n",
    "num_deck = list(range(1, 53))     "
   ]
  },
  {
   "cell_type": "code",
   "execution_count": null,
   "id": "05b2dfca",
   "metadata": {},
   "outputs": [
    {
     "ename": "",
     "evalue": "",
     "output_type": "error",
     "traceback": [
      "\u001b[1;31mnotebook controller is DISPOSED. \n",
      "\u001b[1;31mView Jupyter <a href='command:jupyter.viewOutput'>log</a> for further details."
     ]
    },
    {
     "ename": "",
     "evalue": "",
     "output_type": "error",
     "traceback": [
      "\u001b[1;31mnotebook controller is DISPOSED. \n",
      "\u001b[1;31mView Jupyter <a href='command:jupyter.viewOutput'>log</a> for further details."
     ]
    }
   ],
   "source": [
    "def get_model_input_based_on_round(cards, round):\n",
    "    if round == 0:\n",
    "        input_cards = cards[:2]\n",
    "    elif round == 1:\n",
    "        input_cards = cards[:5]\n",
    "    else:\n",
    "        input_cards = cards[:7]\n",
    "    \n",
    "    # Convert to tensor\n",
    "    input_tensor = torch.tensor(input_cards, dtype=torch.long)\n",
    "\n",
    "    # Pad with zeros on the right if needed\n",
    "    if len(input_tensor) < 7:\n",
    "        pad_size = 7 - len(input_tensor)\n",
    "        input_tensor = F.pad(input_tensor, (0, pad_size), value=0)\n",
    "    else:\n",
    "        input_tensor = input_tensor[:7]  # Truncate just in case\n",
    "\n",
    "    return input_tensor.unsqueeze(0)  # shape: (max_len,)"
   ]
  },
  {
   "cell_type": "code",
   "execution_count": null,
   "id": "dbe498fc",
   "metadata": {},
   "outputs": [
    {
     "ename": "",
     "evalue": "",
     "output_type": "error",
     "traceback": [
      "\u001b[1;31mnotebook controller is DISPOSED. \n",
      "\u001b[1;31mView Jupyter <a href='command:jupyter.viewOutput'>log</a> for further details."
     ]
    },
    {
     "ename": "",
     "evalue": "",
     "output_type": "error",
     "traceback": [
      "\u001b[1;31mnotebook controller is DISPOSED. \n",
      "\u001b[1;31mView Jupyter <a href='command:jupyter.viewOutput'>log</a> for further details."
     ]
    }
   ],
   "source": [
    "def count_intervals(data, interval_size, min_val=-5, max_val=5):\n",
    "    bins = {}\n",
    "    num_bins = int((max_val - min_val) / interval_size)\n",
    "\n",
    "    for value in data:\n",
    "        if value < min_val or value >= max_val:\n",
    "            continue  # skip out-of-range values\n",
    "\n",
    "        # shift the value range to start at 0\n",
    "        bin_index = int((value - min_val) / interval_size)\n",
    "        bin_start = round(min_val + bin_index * interval_size, 10)\n",
    "        bin_end = round(bin_start + interval_size, 10)\n",
    "\n",
    "        bin_label = f\"[{bin_start}, {bin_end})\"\n",
    "        if bin_label not in bins:\n",
    "            bins[bin_label] = 0\n",
    "        bins[bin_label] += 1\n",
    "\n",
    "    return bins"
   ]
  },
  {
   "cell_type": "code",
   "execution_count": null,
   "id": "f375d17d",
   "metadata": {},
   "outputs": [
    {
     "ename": "",
     "evalue": "",
     "output_type": "error",
     "traceback": [
      "\u001b[1;31mnotebook controller is DISPOSED. \n",
      "\u001b[1;31mView Jupyter <a href='command:jupyter.viewOutput'>log</a> for further details."
     ]
    },
    {
     "ename": "",
     "evalue": "",
     "output_type": "error",
     "traceback": [
      "\u001b[1;31mnotebook controller is DISPOSED. \n",
      "\u001b[1;31mView Jupyter <a href='command:jupyter.viewOutput'>log</a> for further details."
     ]
    }
   ],
   "source": [
    "import ultimate\n",
    "def test_model_with_games(model, thresholds=[0, 0, 0], num_games = 100):\n",
    "    model.eval()\n",
    "    budget = 0\n",
    "    allBet = 0\n",
    "    folds = 0\n",
    "    flops = 0\n",
    "    rivers = 0\n",
    "    preflops = 0\n",
    "    \n",
    "    # list of predictions\n",
    "    preds = []\n",
    "    for i in range(num_games): \n",
    "        # generate game (9 cards, played, river, dealer)\n",
    "        cards = random.sample(num_deck, 9)\n",
    "        winnings = 0\n",
    "\n",
    "        # check what round we are in\n",
    "        round = 0\n",
    "        round_when_bet = None\n",
    "        # play  game until it ends\n",
    "        while True:\n",
    "            model_input = get_model_input_based_on_round(cards, round)\n",
    "            \n",
    "            # Forward pass to get prediction (probability of betting 1)\n",
    "            with torch.no_grad():\n",
    "                pred = model(model_input)  # shape: [1, 1]\n",
    "\n",
    "            pred_prob = pred.item()  # get scalar probability\n",
    "            preds.append(pred_prob)\n",
    "            # if prediction > 0.5 => bet, else don't bet\n",
    "            if pred_prob > thresholds[round] and round_when_bet is None:\n",
    "                round_when_bet = round\n",
    "                break\n",
    "\n",
    "            round += 1\n",
    "\n",
    "            if round == 3:\n",
    "                break\n",
    "\n",
    "        # calculate winnings\n",
    "        player_hand = [enumerated_deck[card] for card in cards[0:7]]\n",
    "        dealer_hand = [enumerated_deck[card] for card in cards[2:]]\n",
    "\n",
    "        player_combination = ultimate.get_best_hand(player_hand)\n",
    "        dealer_combination = ultimate.get_best_hand(dealer_hand)\n",
    "\n",
    "        player_rank = winning_hand_ranks[player_combination]\n",
    "        dealer_rank = winning_hand_ranks[dealer_combination]\n",
    "\n",
    "        victor = 0 # 0 = dealer, 1 = player\n",
    "        \n",
    "        if player_rank > dealer_rank:\n",
    "            victor = 1\n",
    "        elif player_rank == dealer_rank:\n",
    "            result = ultimate.decider(player_combination, player_hand, \n",
    "                                    dealer_combination, dealer_hand)\n",
    "            if result == \"player\":\n",
    "                victor = 1\n",
    "            elif result == \"dealer\":\t\n",
    "                victor = 0\n",
    "            else:\n",
    "                victor = 2\t# need to decide about this\n",
    "                winnings = 0\n",
    "        else:\n",
    "            victor = 0\n",
    "\n",
    "        # check if ante is valid\n",
    "        dealer_has_something = ultimate.dealer_has_pair_or_better(dealer_hand[:2], dealer_hand[2:])\n",
    "        blind_won = ultimate.has_blind(1, player_combination) - 1 #how much blind got us\n",
    "\n",
    "        # calculate rewards for first and second rounds (in third victory is already bet, defeat is fold)\n",
    "        if round_when_bet == 0:\n",
    "            if victor == 1:\n",
    "                winnings =  4 + blind_won + (1 if dealer_has_something else 0)\n",
    "            elif victor == 0:\n",
    "                winnings =  -6 + (1 if not dealer_has_something else 0)\n",
    "            allBet += 6\n",
    "            preflops += 1\n",
    "        elif round_when_bet == 1:\n",
    "            if victor == 1:\n",
    "                winnings =  2 + blind_won + (1 if dealer_has_something else 0)\n",
    "            elif victor == 0:\n",
    "                winnings =  -4 + (1 if not dealer_has_something else 0)\n",
    "            allBet += 4\n",
    "            flops += 1\n",
    "        elif round_when_bet == 2:\n",
    "            if victor == 1:\n",
    "                winnings =  1 + blind_won + (1 if dealer_has_something else 0)\n",
    "            elif victor == 0:\n",
    "                winnings =  -3 + (1 if not dealer_has_something else 0)\n",
    "            allBet += 3\n",
    "            rivers += 1\n",
    "        elif round_when_bet == None:\n",
    "            winnings = -2\n",
    "            allBet += 2\n",
    "            folds += 1\n",
    "        \n",
    " \n",
    "        budget += winnings\n",
    "        #print(\"Winnings: \", winnings)\n",
    "    \n",
    "    print(\"Budget is: \", budget)\n",
    "    print(\"Betted: \", allBet)\n",
    "    print(\"PreFlops: \", preflops)\n",
    "    print(\"Flops:\", flops)\n",
    "    print(\"Rivers:\", rivers)\n",
    "    print(\"Folds: \", folds)\n",
    "    print(\"Ratio: \", budget / allBet)\n",
    "    #print(preds)\n",
    "    interval_size = 0.2):\n",
    "    result = count_intervals(preds, interval_size)\n",
    "    for interval, count in sorted(result.items()\n",
    "        print(f\"{interval}: {count}\")"
   ]
  },
  {
   "cell_type": "code",
   "execution_count": null,
   "id": "2bfd4425",
   "metadata": {},
   "outputs": [
    {
     "name": "stdout",
     "output_type": "stream",
     "text": [
      "Budget is:  -170002.5\n",
      "Betted:  4514620\n",
      "PreFlops:  451190\n",
      "Flops: 207248\n",
      "Rivers: 295364\n",
      "Folds:  46198\n",
      "Ratio:  -0.03765599319544059\n",
      "[-0.2, 0.0): 97653\n",
      "[-0.4, -0.2): 113766\n",
      "[-0.6, -0.4): 124587\n",
      "[-0.8, -0.6): 134091\n",
      "[-1.0, -0.8): 151601\n",
      "[-1.2, -1.0): 146488\n",
      "[-1.4, -1.2): 141857\n",
      "[-1.6, -1.4): 131045\n",
      "[-1.8, -1.6): 119894\n",
      "[-2.0, -1.8): 89725\n",
      "[-2.2, -2.0): 67298\n",
      "[-2.4, -2.2): 39226\n",
      "[-2.6, -2.4): 18031\n",
      "[-2.8, -2.6): 8532\n",
      "[-3.0, -2.8): 3019\n",
      "[-3.2, -3.0): 1108\n",
      "[-3.4, -3.2): 349\n",
      "[-3.6, -3.4): 71\n",
      "[-3.8, -3.6): 15\n",
      "[-4.0, -3.8): 3\n",
      "[0.0, 0.2): 82903\n",
      "[0.2, 0.4): 73236\n",
      "[0.4, 0.6): 69585\n",
      "[0.6, 0.8): 62078\n",
      "[0.8, 1.0): 50970\n",
      "[1.0, 1.2): 46937\n",
      "[1.2, 1.4): 27642\n",
      "[1.4, 1.6): 25478\n",
      "[1.6, 1.8): 16335\n",
      "[1.8, 2.0): 13034\n",
      "[2.0, 2.2): 9164\n",
      "[2.2, 2.4): 8012\n",
      "[2.4, 2.6): 4956\n",
      "[2.6, 2.8): 2020\n",
      "[2.8, 3.0): 1078\n",
      "[3.0, 3.2): 5808\n",
      "[3.2, 3.4): 475\n",
      "[3.4, 3.6): 458\n",
      "[3.6, 3.8): 60\n",
      "[3.8, 4.0): 59\n",
      "[4.0, 4.2): 46\n",
      "[4.2, 4.4): 38\n",
      "[4.4, 4.6): 35\n",
      "[4.6, 4.8): 38\n",
      "[4.8, 5.0): 40\n"
     ]
    },
    {
     "ename": "",
     "evalue": "",
     "output_type": "error",
     "traceback": [
      "\u001b[1;31mnotebook controller is DISPOSED. \n",
      "\u001b[1;31mView Jupyter <a href='command:jupyter.viewOutput'>log</a> for further details."
     ]
    },
    {
     "ename": "",
     "evalue": "",
     "output_type": "error",
     "traceback": [
      "\u001b[1;31mnotebook controller is DISPOSED. \n",
      "\u001b[1;31mView Jupyter <a href='command:jupyter.viewOutput'>log</a> for further details."
     ]
    }
   ],
   "source": [
    "test_model_with_games(linearModel, best_thresholds,  1000000)"
   ]
  }
 ],
 "metadata": {
  "kernelspec": {
   "display_name": "NSU25",
   "language": "python",
   "name": "python3"
  },
  "language_info": {
   "codemirror_mode": {
    "name": "ipython",
    "version": 3
   },
   "file_extension": ".py",
   "mimetype": "text/x-python",
   "name": "python",
   "nbconvert_exporter": "python",
   "pygments_lexer": "ipython3",
   "version": "3.9.21"
  }
 },
 "nbformat": 4,
 "nbformat_minor": 5
}
